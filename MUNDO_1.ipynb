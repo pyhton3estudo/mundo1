{
  "nbformat": 4,
  "nbformat_minor": 0,
  "metadata": {
    "colab": {
      "name": "MUNDO_1.ipynb",
      "provenance": [],
      "collapsed_sections": [],
      "authorship_tag": "ABX9TyN+Tpg458TNYNhMZxulhz37",
      "include_colab_link": true
    },
    "kernelspec": {
      "name": "python3",
      "display_name": "Python 3"
    }
  },
  "cells": [
    {
      "cell_type": "markdown",
      "metadata": {
        "id": "view-in-github",
        "colab_type": "text"
      },
      "source": [
        "<a href=\"https://colab.research.google.com/github/pyhton3estudo/mundo1/blob/master/MUNDO_1.ipynb\" target=\"_parent\"><img src=\"https://colab.research.google.com/assets/colab-badge.svg\" alt=\"Open In Colab\"/></a>"
      ]
    },
    {
      "cell_type": "code",
      "metadata": {
        "id": "_7OEuzgft4NM",
        "colab_type": "code",
        "colab": {
          "base_uri": "https://localhost:8080/",
          "height": 102
        },
        "outputId": "a53f944b-5c73-4d60-b64d-3c9c9df1f981"
      },
      "source": [
        "print('AULA 04')\n",
        "print ('Olá mundo!!!')\n",
        "print(7+4)\n",
        "print('7'+'4')\n",
        "print('olá',5)\n"
      ],
      "execution_count": 14,
      "outputs": [
        {
          "output_type": "stream",
          "text": [
            "AULA 04\n",
            "Olá mundo!!!\n",
            "11\n",
            "74\n",
            "olá 5\n"
          ],
          "name": "stdout"
        }
      ]
    },
    {
      "cell_type": "code",
      "metadata": {
        "id": "Bq6MPXEjYNSc",
        "colab_type": "code",
        "colab": {
          "base_uri": "https://localhost:8080/",
          "height": 102
        },
        "outputId": "e1c411a9-9e05-44ab-9561-9b897f5168a7"
      },
      "source": [
        "nome = 'Guanabara'\n",
        "idade = 25\n",
        "peso = 75.8\n",
        "print(nome,idade,peso)\n",
        "\n",
        "nome = input('Qual seu nome:')\n",
        "idade = input('Qual sua idade:')\n",
        "peso = input('Qual seu peso:')\n",
        "print(nome,idade, peso)"
      ],
      "execution_count": 12,
      "outputs": [
        {
          "output_type": "stream",
          "text": [
            "Guanabara 25 75.8\n",
            "Qual seu nome:Fernando\n",
            "Qual sua idade:45\n",
            "Qual seu peso:90.0\n",
            "Fernando 45 90.0\n"
          ],
          "name": "stdout"
        }
      ]
    },
    {
      "cell_type": "code",
      "metadata": {
        "id": "oENHeVlXbOjM",
        "colab_type": "code",
        "colab": {
          "base_uri": "https://localhost:8080/",
          "height": 85
        },
        "outputId": "aba76383-c982-4747-c617-3db2791c593a"
      },
      "source": [
        "nome = input('Qual seu nome:')\n",
        "idade = input('Qual sua idade:')\n",
        "peso = input('Qual seu peso:')\n",
        "print(nome,idade, peso)\n"
      ],
      "execution_count": 13,
      "outputs": [
        {
          "output_type": "stream",
          "text": [
            "Qual seu nome:s\n",
            "Qual sua idade:74\n",
            "Qual seu peso:12\n",
            "s 74 12\n"
          ],
          "name": "stdout"
        }
      ]
    },
    {
      "cell_type": "code",
      "metadata": {
        "id": "Lv_GUS-scMav",
        "colab_type": "code",
        "colab": {
          "base_uri": "https://localhost:8080/",
          "height": 51
        },
        "outputId": "c245f3ce-07a4-455e-cfc6-1ca7c9843ea3"
      },
      "source": [
        "nome=input('Qual seu nome: ')\n",
        "print('olá',nome,'! Prazer em te Conhecer!')"
      ],
      "execution_count": 15,
      "outputs": [
        {
          "output_type": "stream",
          "text": [
            "Qual seu nome: Fernando\n",
            "olá Fernando ! Prazer em te Conhecer!\n"
          ],
          "name": "stdout"
        }
      ]
    },
    {
      "cell_type": "code",
      "metadata": {
        "id": "p-S5akQ6d04H",
        "colab_type": "code",
        "colab": {
          "base_uri": "https://localhost:8080/",
          "height": 85
        },
        "outputId": "14d9e508-0b40-4667-ae33-138acb312730"
      },
      "source": [
        "dia=input('Dia = ')\n",
        "mes=input('Mes = ')\n",
        "ano=input('Ano = ')\n",
        "print('Você nasceu no dia',dia,'de',mes,'de',ano,'. Correto?')"
      ],
      "execution_count": 18,
      "outputs": [
        {
          "output_type": "stream",
          "text": [
            "Dia = 17\n",
            "Mes = Mar\n",
            "Ano = 1978\n",
            "Você nasceu no dia 17 de Mar de 1978 . Correto?\n"
          ],
          "name": "stdout"
        }
      ]
    },
    {
      "cell_type": "code",
      "metadata": {
        "id": "XDSTZXwNfi5V",
        "colab_type": "code",
        "colab": {
          "base_uri": "https://localhost:8080/",
          "height": 68
        },
        "outputId": "dd04be7d-de24-4d49-e073-95997f82aeca"
      },
      "source": [
        "n1=int(input('Digite um número: '))\n",
        "n2=int(input('Digite outro número: '))\n",
        "s= n1+n2\n",
        "print('A soma é:' ,s)"
      ],
      "execution_count": 23,
      "outputs": [
        {
          "output_type": "stream",
          "text": [
            "Digite um número: 2\n",
            "Digite outro número: 3\n",
            "A soma é: 5\n"
          ],
          "name": "stdout"
        }
      ]
    },
    {
      "cell_type": "code",
      "metadata": {
        "id": "oszJ8Firl_5o",
        "colab_type": "code",
        "colab": {
          "base_uri": "https://localhost:8080/",
          "height": 85
        },
        "outputId": "5a19f285-7b53-46e4-b942-17a8917bb175"
      },
      "source": [
        "print('AULA 06 - TIPOS PRIMITIVOS E TIPOS DE DADOS')\n",
        "n1=int(input('Digite um número: '))\n",
        "n2=int(input('Digite outro número: '))\n",
        "s= n1+n2\n",
        "print('A soma entre {} e {} vale {}'.format(n1,n2,s))"
      ],
      "execution_count": 25,
      "outputs": [
        {
          "output_type": "stream",
          "text": [
            "AULA 06 - TIPOS PRIMITIVOS E TIPOS DE DADOS\n",
            "Digite um número: 2\n",
            "Digite outro número: 3\n",
            "A soma entre 2 e 3 vale 5\n"
          ],
          "name": "stdout"
        }
      ]
    },
    {
      "cell_type": "code",
      "metadata": {
        "id": "D8wK6-P7n3U2",
        "colab_type": "code",
        "colab": {
          "base_uri": "https://localhost:8080/",
          "height": 170
        },
        "outputId": "63287d15-d884-443d-c68f-f70b151a36ee"
      },
      "source": [
        "n=input('Digite algo:')\n",
        "print(type(n))\n",
        "print('É número? ',n.isnumeric())\n",
        "print('É letra? ',n.isalpha())\n",
        "print('É letra e número? ',n.isalnum())\n",
        "print('Estã em maiúscula? ',n.isupper())\n",
        "print('Tem espaços? ',n.isspace())\n",
        "print('Está em minúscula? ',n.islower())\n",
        "print('Está capitalizada ',n.istitle())"
      ],
      "execution_count": 52,
      "outputs": [
        {
          "output_type": "stream",
          "text": [
            "Digite algo:Psid\n",
            "<class 'str'>\n",
            "É número?  False\n",
            "É letra?  True\n",
            "É letra e número?  True\n",
            "Estã em maiúscula?  False\n",
            "Tem espaços?  False\n",
            "Está em minúscula?  False\n",
            "Está capitalizada  True\n"
          ],
          "name": "stdout"
        }
      ]
    },
    {
      "cell_type": "code",
      "metadata": {
        "id": "GHq9MZ8H5kra",
        "colab_type": "code",
        "colab": {
          "base_uri": "https://localhost:8080/",
          "height": 51
        },
        "outputId": "a2201e81-3f69-43c6-91ca-5b62341caecf"
      },
      "source": [
        "print('AULA 07 - OPERADORES ARITMÉTICOS')\n",
        "c1=int\n",
        "c2=int\n",
        "c3=int\n",
        "c1= 5+3*2\n",
        "c2=3*5+4**2\n",
        "c3=3*(5+4)**2\n",
        "print(c1,c2,c3)"
      ],
      "execution_count": 60,
      "outputs": [
        {
          "output_type": "stream",
          "text": [
            "AULA 07 - OPERADORES ARITMÉTICOS\n",
            "11 31 243\n"
          ],
          "name": "stdout"
        }
      ]
    },
    {
      "cell_type": "code",
      "metadata": {
        "id": "9hFcwUse-iqA",
        "colab_type": "code",
        "colab": {
          "base_uri": "https://localhost:8080/",
          "height": 51
        },
        "outputId": "d5c25d90-b39a-4e39-9827-48c48998cb3f"
      },
      "source": [
        "num=float(input('Entre com um número: '))\n",
        "print('O antecessor do número {:.2f} ẽ {:.2f} e o sucessor é {:.2f}'.format(num,num-1,num+1))"
      ],
      "execution_count": 68,
      "outputs": [
        {
          "output_type": "stream",
          "text": [
            "Entre com um número: 2\n",
            "O antecessor do número 2.00 ẽ 1.00 e o sucessor é 3.00\n"
          ],
          "name": "stdout"
        }
      ]
    },
    {
      "cell_type": "code",
      "metadata": {
        "id": "xnaOy8j-CBxo",
        "colab_type": "code",
        "colab": {
          "base_uri": "https://localhost:8080/",
          "height": 85
        },
        "outputId": "3b7bc4bc-2ff0-42bf-bff6-00b64a57a015"
      },
      "source": [
        "n=int(input('Entre com um número:'))\n",
        "dobro = n * 2\n",
        "triplo = n * 3\n",
        "raiz = n ** (1/2)\n",
        "print('Dobro = {}' .format(dobro))\n",
        "print('Triplo = {}' .format(triplo))\n",
        "print('Raiz Quadrada = {}' .format(raiz))\n"
      ],
      "execution_count": 91,
      "outputs": [
        {
          "output_type": "stream",
          "text": [
            "Entre com um número:9\n",
            "Dobro = 18\n",
            "Triplo = 27\n",
            "Raiz Quadrada = 3.0\n"
          ],
          "name": "stdout"
        }
      ]
    },
    {
      "cell_type": "code",
      "metadata": {
        "id": "AbJUmh6jG48r",
        "colab_type": "code",
        "colab": {
          "base_uri": "https://localhost:8080/",
          "height": 68
        },
        "outputId": "823cd295-3e79-4c3b-bceb-89819b5d8b32"
      },
      "source": [
        "n1=float(input('Entre com a nota 1: '))\n",
        "n2=float(input('Entre com a nota 2: '))\n",
        "med= (n1+n2)/2\n",
        "print('A média do aluno é: {:.2f}' .format(med))"
      ],
      "execution_count": 93,
      "outputs": [
        {
          "output_type": "stream",
          "text": [
            "Entre com a nota 1: 10\n",
            "Entre com a nota 2: 8\n",
            "A média do aluno é: 9.00\n"
          ],
          "name": "stdout"
        }
      ]
    },
    {
      "cell_type": "code",
      "metadata": {
        "id": "ztaZwG93IZRE",
        "colab_type": "code",
        "colab": {
          "base_uri": "https://localhost:8080/",
          "height": 221
        },
        "outputId": "ec0c0b2c-51d4-42c6-f72c-33d86b6977d4"
      },
      "source": [
        "num=int(input('Entre com o número: '))\n",
        "print('A Tabuada de {} é:'.format(num))\n",
        "print(num,'* 1 = {}'.format(num))\n",
        "print(num,'* 2 = {}'.format(num*2))\n",
        "print(num,'* 3 = {}'.format(num*3))\n",
        "print(num,'* 4 = {}'.format(num*4))\n",
        "print(num,'* 5 = {}'.format(num*5))\n",
        "print(num,'* 6 = {}'.format(num*6))\n",
        "print(num,'* 7 = {}'.format(num*7))\n",
        "print(num,'* 8 = {}'.format(num*8))\n",
        "print(num,'* 9 = {}'.format(num*9))\n",
        "print(num,'* 10 = {}'.format(num*10))"
      ],
      "execution_count": 106,
      "outputs": [
        {
          "output_type": "stream",
          "text": [
            "Entre com o número: 5\n",
            "A Tabuada de 5 é:\n",
            "5 * 1 = 5\n",
            "5 * 2 = 10\n",
            "5 * 3 = 15\n",
            "5 * 4 = 20\n",
            "5 * 5 = 25\n",
            "5 * 6 = 30\n",
            "5 * 7 = 35\n",
            "5 * 8 = 40\n",
            "5 * 9 = 45\n",
            "5 * 10 = 50\n"
          ],
          "name": "stdout"
        }
      ]
    },
    {
      "cell_type": "code",
      "metadata": {
        "id": "jLGBu5FML24A",
        "colab_type": "code",
        "colab": {}
      },
      "source": [
        ""
      ],
      "execution_count": null,
      "outputs": []
    }
  ]
}