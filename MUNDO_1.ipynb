{
  "nbformat": 4,
  "nbformat_minor": 0,
  "metadata": {
    "colab": {
      "name": "MUNDO_1.ipynb",
      "provenance": [],
      "collapsed_sections": [],
      "authorship_tag": "ABX9TyNsql1vUfrM0vE5hlYP7Usb",
      "include_colab_link": true
    },
    "kernelspec": {
      "name": "python3",
      "display_name": "Python 3"
    }
  },
  "cells": [
    {
      "cell_type": "markdown",
      "metadata": {
        "id": "view-in-github",
        "colab_type": "text"
      },
      "source": [
        "<a href=\"https://colab.research.google.com/github/pyhton3estudo/mundo1/blob/master/MUNDO_1.ipynb\" target=\"_parent\"><img src=\"https://colab.research.google.com/assets/colab-badge.svg\" alt=\"Open In Colab\"/></a>"
      ]
    },
    {
      "cell_type": "code",
      "metadata": {
        "id": "_7OEuzgft4NM",
        "colab_type": "code",
        "colab": {
          "base_uri": "https://localhost:8080/",
          "height": 102
        },
        "outputId": "a53f944b-5c73-4d60-b64d-3c9c9df1f981"
      },
      "source": [
        "print('AULA 04')\n",
        "print ('Olá mundo!!!')\n",
        "print(7+4)\n",
        "print('7'+'4')\n",
        "print('olá',5)\n"
      ],
      "execution_count": null,
      "outputs": [
        {
          "output_type": "stream",
          "text": [
            "AULA 04\n",
            "Olá mundo!!!\n",
            "11\n",
            "74\n",
            "olá 5\n"
          ],
          "name": "stdout"
        }
      ]
    },
    {
      "cell_type": "code",
      "metadata": {
        "id": "Bq6MPXEjYNSc",
        "colab_type": "code",
        "colab": {
          "base_uri": "https://localhost:8080/",
          "height": 102
        },
        "outputId": "e1c411a9-9e05-44ab-9561-9b897f5168a7"
      },
      "source": [
        "nome = 'Guanabara'\n",
        "idade = 25\n",
        "peso = 75.8\n",
        "print(nome,idade,peso)\n",
        "\n",
        "nome = input('Qual seu nome:')\n",
        "idade = input('Qual sua idade:')\n",
        "peso = input('Qual seu peso:')\n",
        "print(nome,idade, peso)"
      ],
      "execution_count": null,
      "outputs": [
        {
          "output_type": "stream",
          "text": [
            "Guanabara 25 75.8\n",
            "Qual seu nome:Fernando\n",
            "Qual sua idade:45\n",
            "Qual seu peso:90.0\n",
            "Fernando 45 90.0\n"
          ],
          "name": "stdout"
        }
      ]
    },
    {
      "cell_type": "code",
      "metadata": {
        "id": "oENHeVlXbOjM",
        "colab_type": "code",
        "colab": {
          "base_uri": "https://localhost:8080/",
          "height": 85
        },
        "outputId": "aba76383-c982-4747-c617-3db2791c593a"
      },
      "source": [
        "nome = input('Qual seu nome:')\n",
        "idade = input('Qual sua idade:')\n",
        "peso = input('Qual seu peso:')\n",
        "print(nome,idade, peso)\n"
      ],
      "execution_count": null,
      "outputs": [
        {
          "output_type": "stream",
          "text": [
            "Qual seu nome:s\n",
            "Qual sua idade:74\n",
            "Qual seu peso:12\n",
            "s 74 12\n"
          ],
          "name": "stdout"
        }
      ]
    },
    {
      "cell_type": "code",
      "metadata": {
        "id": "Lv_GUS-scMav",
        "colab_type": "code",
        "colab": {
          "base_uri": "https://localhost:8080/",
          "height": 51
        },
        "outputId": "c245f3ce-07a4-455e-cfc6-1ca7c9843ea3"
      },
      "source": [
        "nome=input('Qual seu nome: ')\n",
        "print('olá',nome,'! Prazer em te Conhecer!')"
      ],
      "execution_count": null,
      "outputs": [
        {
          "output_type": "stream",
          "text": [
            "Qual seu nome: Fernando\n",
            "olá Fernando ! Prazer em te Conhecer!\n"
          ],
          "name": "stdout"
        }
      ]
    },
    {
      "cell_type": "code",
      "metadata": {
        "id": "p-S5akQ6d04H",
        "colab_type": "code",
        "colab": {
          "base_uri": "https://localhost:8080/",
          "height": 85
        },
        "outputId": "14d9e508-0b40-4667-ae33-138acb312730"
      },
      "source": [
        "dia=input('Dia = ')\n",
        "mes=input('Mes = ')\n",
        "ano=input('Ano = ')\n",
        "print('Você nasceu no dia',dia,'de',mes,'de',ano,'. Correto?')"
      ],
      "execution_count": null,
      "outputs": [
        {
          "output_type": "stream",
          "text": [
            "Dia = 17\n",
            "Mes = Mar\n",
            "Ano = 1978\n",
            "Você nasceu no dia 17 de Mar de 1978 . Correto?\n"
          ],
          "name": "stdout"
        }
      ]
    },
    {
      "cell_type": "code",
      "metadata": {
        "id": "XDSTZXwNfi5V",
        "colab_type": "code",
        "colab": {
          "base_uri": "https://localhost:8080/",
          "height": 68
        },
        "outputId": "dd04be7d-de24-4d49-e073-95997f82aeca"
      },
      "source": [
        "n1=int(input('Digite um número: '))\n",
        "n2=int(input('Digite outro número: '))\n",
        "s= n1+n2\n",
        "print('A soma é:' ,s)"
      ],
      "execution_count": null,
      "outputs": [
        {
          "output_type": "stream",
          "text": [
            "Digite um número: 2\n",
            "Digite outro número: 3\n",
            "A soma é: 5\n"
          ],
          "name": "stdout"
        }
      ]
    },
    {
      "cell_type": "code",
      "metadata": {
        "id": "oszJ8Firl_5o",
        "colab_type": "code",
        "colab": {
          "base_uri": "https://localhost:8080/",
          "height": 85
        },
        "outputId": "5a19f285-7b53-46e4-b942-17a8917bb175"
      },
      "source": [
        "print('AULA 06 - TIPOS PRIMITIVOS E TIPOS DE DADOS')\n",
        "n1=int(input('Digite um número: '))\n",
        "n2=int(input('Digite outro número: '))\n",
        "s= n1+n2\n",
        "print('A soma entre {} e {} vale {}'.format(n1,n2,s))"
      ],
      "execution_count": null,
      "outputs": [
        {
          "output_type": "stream",
          "text": [
            "AULA 06 - TIPOS PRIMITIVOS E TIPOS DE DADOS\n",
            "Digite um número: 2\n",
            "Digite outro número: 3\n",
            "A soma entre 2 e 3 vale 5\n"
          ],
          "name": "stdout"
        }
      ]
    },
    {
      "cell_type": "code",
      "metadata": {
        "id": "D8wK6-P7n3U2",
        "colab_type": "code",
        "colab": {
          "base_uri": "https://localhost:8080/",
          "height": 170
        },
        "outputId": "63287d15-d884-443d-c68f-f70b151a36ee"
      },
      "source": [
        "n=input('Digite algo:')\n",
        "print(type(n))\n",
        "print('É número? ',n.isnumeric())\n",
        "print('É letra? ',n.isalpha())\n",
        "print('É letra e número? ',n.isalnum())\n",
        "print('Estã em maiúscula? ',n.isupper())\n",
        "print('Tem espaços? ',n.isspace())\n",
        "print('Está em minúscula? ',n.islower())\n",
        "print('Está capitalizada ',n.istitle())"
      ],
      "execution_count": null,
      "outputs": [
        {
          "output_type": "stream",
          "text": [
            "Digite algo:Psid\n",
            "<class 'str'>\n",
            "É número?  False\n",
            "É letra?  True\n",
            "É letra e número?  True\n",
            "Estã em maiúscula?  False\n",
            "Tem espaços?  False\n",
            "Está em minúscula?  False\n",
            "Está capitalizada  True\n"
          ],
          "name": "stdout"
        }
      ]
    },
    {
      "cell_type": "code",
      "metadata": {
        "id": "GHq9MZ8H5kra",
        "colab_type": "code",
        "colab": {
          "base_uri": "https://localhost:8080/",
          "height": 51
        },
        "outputId": "a2201e81-3f69-43c6-91ca-5b62341caecf"
      },
      "source": [
        "print('AULA 07 - OPERADORES ARITMÉTICOS')\n",
        "c1=int\n",
        "c2=int\n",
        "c3=int\n",
        "c1= 5+3*2\n",
        "c2=3*5+4**2\n",
        "c3=3*(5+4)**2\n",
        "print(c1,c2,c3)"
      ],
      "execution_count": null,
      "outputs": [
        {
          "output_type": "stream",
          "text": [
            "AULA 07 - OPERADORES ARITMÉTICOS\n",
            "11 31 243\n"
          ],
          "name": "stdout"
        }
      ]
    },
    {
      "cell_type": "code",
      "metadata": {
        "id": "9hFcwUse-iqA",
        "colab_type": "code",
        "colab": {
          "base_uri": "https://localhost:8080/",
          "height": 51
        },
        "outputId": "d5c25d90-b39a-4e39-9827-48c48998cb3f"
      },
      "source": [
        "num=float(input('Entre com um número: '))\n",
        "print('O antecessor do número {:.2f} ẽ {:.2f} e o sucessor é {:.2f}'.format(num,num-1,num+1))"
      ],
      "execution_count": null,
      "outputs": [
        {
          "output_type": "stream",
          "text": [
            "Entre com um número: 2\n",
            "O antecessor do número 2.00 ẽ 1.00 e o sucessor é 3.00\n"
          ],
          "name": "stdout"
        }
      ]
    },
    {
      "cell_type": "code",
      "metadata": {
        "id": "xnaOy8j-CBxo",
        "colab_type": "code",
        "colab": {
          "base_uri": "https://localhost:8080/",
          "height": 85
        },
        "outputId": "3b7bc4bc-2ff0-42bf-bff6-00b64a57a015"
      },
      "source": [
        "n=int(input('Entre com um número:'))\n",
        "dobro = n * 2\n",
        "triplo = n * 3\n",
        "raiz = n ** (1/2)\n",
        "print('Dobro = {}' .format(dobro))\n",
        "print('Triplo = {}' .format(triplo))\n",
        "print('Raiz Quadrada = {}' .format(raiz))\n"
      ],
      "execution_count": null,
      "outputs": [
        {
          "output_type": "stream",
          "text": [
            "Entre com um número:9\n",
            "Dobro = 18\n",
            "Triplo = 27\n",
            "Raiz Quadrada = 3.0\n"
          ],
          "name": "stdout"
        }
      ]
    },
    {
      "cell_type": "code",
      "metadata": {
        "id": "AbJUmh6jG48r",
        "colab_type": "code",
        "colab": {
          "base_uri": "https://localhost:8080/",
          "height": 68
        },
        "outputId": "823cd295-3e79-4c3b-bceb-89819b5d8b32"
      },
      "source": [
        "n1=float(input('Entre com a nota 1: '))\n",
        "n2=float(input('Entre com a nota 2: '))\n",
        "med= (n1+n2)/2\n",
        "print('A média do aluno é: {:.2f}' .format(med))"
      ],
      "execution_count": null,
      "outputs": [
        {
          "output_type": "stream",
          "text": [
            "Entre com a nota 1: 10\n",
            "Entre com a nota 2: 8\n",
            "A média do aluno é: 9.00\n"
          ],
          "name": "stdout"
        }
      ]
    },
    {
      "cell_type": "code",
      "metadata": {
        "id": "OYVXdR64mkLu",
        "colab_type": "code",
        "colab": {
          "base_uri": "https://localhost:8080/",
          "height": 51
        },
        "outputId": "b8d699ca-03ba-4c51-b104-bfb0c6ef2b0a"
      },
      "source": [
        "med=float(input('Entre com o valor em metros: '))\n",
        "cm= med *100\n",
        "mm= med * 1000\n",
        "print('O valor em CM= {:.2f} e valor em MM= {:.2f}' .format(cm,mm))"
      ],
      "execution_count": 7,
      "outputs": [
        {
          "output_type": "stream",
          "text": [
            "Entre com o valor em metros: 250\n",
            "O valor em CM= 25000.00 e valor em MM= 250000.00\n"
          ],
          "name": "stdout"
        }
      ]
    },
    {
      "cell_type": "code",
      "metadata": {
        "id": "ztaZwG93IZRE",
        "colab_type": "code",
        "colab": {
          "base_uri": "https://localhost:8080/",
          "height": 221
        },
        "outputId": "ec0c0b2c-51d4-42c6-f72c-33d86b6977d4"
      },
      "source": [
        "num=int(input('Entre com o número: '))\n",
        "print('A Tabuada de {} é:'.format(num))\n",
        "print(num,'* 1 = {}'.format(num))\n",
        "print(num,'* 2 = {}'.format(num*2))\n",
        "print(num,'* 3 = {}'.format(num*3))\n",
        "print(num,'* 4 = {}'.format(num*4))\n",
        "print(num,'* 5 = {}'.format(num*5))\n",
        "print(num,'* 6 = {}'.format(num*6))\n",
        "print(num,'* 7 = {}'.format(num*7))\n",
        "print(num,'* 8 = {}'.format(num*8))\n",
        "print(num,'* 9 = {}'.format(num*9))\n",
        "print(num,'* 10 = {}'.format(num*10))"
      ],
      "execution_count": null,
      "outputs": [
        {
          "output_type": "stream",
          "text": [
            "Entre com o número: 5\n",
            "A Tabuada de 5 é:\n",
            "5 * 1 = 5\n",
            "5 * 2 = 10\n",
            "5 * 3 = 15\n",
            "5 * 4 = 20\n",
            "5 * 5 = 25\n",
            "5 * 6 = 30\n",
            "5 * 7 = 35\n",
            "5 * 8 = 40\n",
            "5 * 9 = 45\n",
            "5 * 10 = 50\n"
          ],
          "name": "stdout"
        }
      ]
    },
    {
      "cell_type": "code",
      "metadata": {
        "id": "9mY38z6Mq2-N",
        "colab_type": "code",
        "colab": {
          "base_uri": "https://localhost:8080/",
          "height": 68
        },
        "outputId": "90e08765-7f7e-4aa6-9140-2e233cc3194b"
      },
      "source": [
        "valor=float(input('Entre com o valor para a conversão R$: '))\n",
        "dolar=float(input('Entre com valor do dólar hoje: $'))\n",
        "real= valor/dolar\n",
        "print('O valor do dólar hoje é {:.2f}$, convertendo o valor {:.2f} para $ é igual a R$ {:.2f} ' .format(dolar,valor,real))"
      ],
      "execution_count": 18,
      "outputs": [
        {
          "output_type": "stream",
          "text": [
            "Entre com o valor para a conversão R$: 19.88\n",
            "Entre com valor do dólar hoje: $3.27\n",
            "O valor do dólar hoje é 3.27$, convertendo o valor 19.88 para $ é igual a R$ 6.08 \n"
          ],
          "name": "stdout"
        }
      ]
    },
    {
      "cell_type": "code",
      "metadata": {
        "id": "jLGBu5FML24A",
        "colab_type": "code",
        "colab": {
          "base_uri": "https://localhost:8080/",
          "height": 85
        },
        "outputId": "98def934-9210-4ba2-85a8-2e41b36673ce"
      },
      "source": [
        "larg=float(input('Entre com a largura da parede em metros: '))\n",
        "alt=float(input('Entre com a altura da parede em metros: '))\n",
        "area= larg * alt\n",
        "tinta= area/2\n",
        "print('Sua parede tem a dimensão de {:.2f} metros de largura por {:.2f} metros de altura. Sua área é de: {:.2f} metros'.format(larg,alt,area))\n",
        "print('Vou precisar de {:.2f} litros de tinta!!!' .format(tinta))"
      ],
      "execution_count": 14,
      "outputs": [
        {
          "output_type": "stream",
          "text": [
            "Entre com a largura da parede em metros: 5\n",
            "Entre com a altura da parede em metros: 5\n",
            "Sua parede tem a dimensão de 5.00 metros de largura por 5.00 metros de altura. Sua área é de: 25.00 metros\n",
            "Vou precisar de 12.50 litros de tinta!!!\n"
          ],
          "name": "stdout"
        }
      ]
    },
    {
      "cell_type": "code",
      "metadata": {
        "id": "ZntxMV7Jtj_w",
        "colab_type": "code",
        "colab": {
          "base_uri": "https://localhost:8080/",
          "height": 51
        },
        "outputId": "b7acab05-08bb-4fb8-f2f2-0a48ae31e222"
      },
      "source": [
        "prod=float(input('Entre com o valor do produto R$:'))\n",
        "desc= prod * 0.05\n",
        "total = prod - desc\n",
        "print('Valor do produto = R${:.2f} com desconto de 15% = R$ {:.2f} o valor Total é: R${:.2f}'.format(prod,desc,total))"
      ],
      "execution_count": 23,
      "outputs": [
        {
          "output_type": "stream",
          "text": [
            "Entre com o valor do produto R$:546\n",
            "Valor do produto = R$546.00 com desconto de 15% = R$ 27.30 o valor Total é: R$518.70\n"
          ],
          "name": "stdout"
        }
      ]
    },
    {
      "cell_type": "code",
      "metadata": {
        "id": "d4In6PCfwiq7",
        "colab_type": "code",
        "colab": {
          "base_uri": "https://localhost:8080/",
          "height": 51
        },
        "outputId": "513c0e88-0fa2-4008-beb6-57a35a2b040b"
      },
      "source": [
        "sal=float(input('Entre com o valor do salário: R$'))\n",
        "aumento= sal * 0.15\n",
        "total= sal + aumento\n",
        "print('Salário atual R${:.2f} + 15% = R${:.2f} é igual a R${:.2f}' .format(sal,aumento,total))"
      ],
      "execution_count": 26,
      "outputs": [
        {
          "output_type": "stream",
          "text": [
            "Entre com o valor do salário: R$4319.43\n",
            "Salário atual R$4319.43 + 15% = R$647.91 é igual a R$4967.34\n"
          ],
          "name": "stdout"
        }
      ]
    },
    {
      "cell_type": "code",
      "metadata": {
        "id": "4dQmCC2iyRqw",
        "colab_type": "code",
        "colab": {
          "base_uri": "https://localhost:8080/",
          "height": 51
        },
        "outputId": "dfe0e24e-aab6-4d98-a286-fddf7c6b6537"
      },
      "source": [
        "c=float(input('Informe a temperatura em ºC='))\n",
        "f=((9*c)/5)+32\n",
        "print('A temperatura de {}ºC corresponde a {}ºF'.format(c,f))"
      ],
      "execution_count": 28,
      "outputs": [
        {
          "output_type": "stream",
          "text": [
            "Informe a temperatura em ºC=40\n",
            "A temperatura de 40.0ºC corresponde a 104.0ºF\n"
          ],
          "name": "stdout"
        }
      ]
    },
    {
      "cell_type": "code",
      "metadata": {
        "id": "bpTxvIXc0Tjf",
        "colab_type": "code",
        "colab": {
          "base_uri": "https://localhost:8080/",
          "height": 68
        },
        "outputId": "bc5baffb-f0ec-4590-88ff-d0e8c32f362a"
      },
      "source": [
        "km=float(input('Quantos KM rodados:'))\n",
        "dias=float(input('Entre com a quantidade de dias: '))\n",
        "vdias = dias * 60\n",
        "vkm = km * 0.15\n",
        "total= vdias + vkm\n",
        "print('Valor total = R${:.2f}'.format(total))\n"
      ],
      "execution_count": 29,
      "outputs": [
        {
          "output_type": "stream",
          "text": [
            "Quantos KM rodados:350\n",
            "Entre com a quantidade de dias: 3\n",
            "Valor total = R$232.50\n"
          ],
          "name": "stdout"
        }
      ]
    },
    {
      "cell_type": "code",
      "metadata": {
        "id": "7KBMK5AX58HX",
        "colab_type": "code",
        "colab": {
          "base_uri": "https://localhost:8080/",
          "height": 51
        },
        "outputId": "c666586b-6276-44a4-e86e-af1c30ceef0e"
      },
      "source": [
        "print('AULA 08 - MÓDULOS')\n",
        "from math import sqrt\n",
        "num=int(input('Digite um número:'))\n",
        "raiz= math.sqrt(num)\n",
        "print('A raiz de {} é igual a {}'.format(num,raiz))"
      ],
      "execution_count": 32,
      "outputs": [
        {
          "output_type": "stream",
          "text": [
            "Digite um número:81\n",
            "A raiz de 81 é igual a 9.0\n"
          ],
          "name": "stdout"
        }
      ]
    },
    {
      "cell_type": "code",
      "metadata": {
        "id": "0tld710z9TwE",
        "colab_type": "code",
        "colab": {
          "base_uri": "https://localhost:8080/",
          "height": 34
        },
        "outputId": "55964471-c16e-4be7-b41a-5c5a5ee2a8b6"
      },
      "source": [
        "import random\n",
        "num= random.randint(1,10)\n",
        "print(num)"
      ],
      "execution_count": 39,
      "outputs": [
        {
          "output_type": "stream",
          "text": [
            "9\n"
          ],
          "name": "stdout"
        }
      ]
    },
    {
      "cell_type": "code",
      "metadata": {
        "id": "zF3gBi8D-Oxu",
        "colab_type": "code",
        "colab": {
          "base_uri": "https://localhost:8080/",
          "height": 51
        },
        "outputId": "b0264c88-e334-47ec-b28f-43c5226cf19c"
      },
      "source": [
        "import math\n",
        "num=float(input('Digite um número: '))\n",
        "print('A parte inteira do número {} é {}'.format(num,math.trunc(num)))"
      ],
      "execution_count": 42,
      "outputs": [
        {
          "output_type": "stream",
          "text": [
            "Digite um número: 3.141516\n",
            "A parte inteira do número 3.141516 é 3\n"
          ],
          "name": "stdout"
        }
      ]
    },
    {
      "cell_type": "code",
      "metadata": {
        "id": "jUroJRYRCafT",
        "colab_type": "code",
        "colab": {
          "base_uri": "https://localhost:8080/",
          "height": 68
        },
        "outputId": "8d255ef2-252e-41d5-cf04-88286659aced"
      },
      "source": [
        "import math\n",
        "co=float(input('Comprimento do cateto oposto: '))\n",
        "ca=float(input('Comprimento do cateto adjacente: '))\n",
        "h= math.hypot(co,ca)\n",
        "print('Valor da hipotenusa: {:.2f}'.format(h))"
      ],
      "execution_count": 44,
      "outputs": [
        {
          "output_type": "stream",
          "text": [
            "Comprimento do cateto oposto: 2\n",
            "Comprimento do cateto adjacente: 2.5\n",
            "Valor da hipotenusa: 3.20\n"
          ],
          "name": "stdout"
        }
      ]
    },
    {
      "cell_type": "code",
      "metadata": {
        "id": "7rGnD0ZvFsbV",
        "colab_type": "code",
        "colab": {
          "base_uri": "https://localhost:8080/",
          "height": 85
        },
        "outputId": "d524c921-d3c5-4067-84b6-9453df751df9"
      },
      "source": [
        "import math\n",
        "angulo=float(input('Digite o ângulo que você deseja:'))\n",
        "seno= math.sin(math.radians(angulo))\n",
        "cosseno= math.cos(math.radians(angulo))\n",
        "tangente= math.tan(math.radians(angulo))\n",
        "print('Seno do ângulo {} = {:.2f}'.format(angulo,seno))\n",
        "print('Cosseno do ângulo {} = {:.2f}'.format(angulo,cosseno))\n",
        "print('Tangente do ângulo {} = {:.2f}'.format(angulo,tangente))"
      ],
      "execution_count": 49,
      "outputs": [
        {
          "output_type": "stream",
          "text": [
            "Digite o ângulo que você deseja:30\n",
            "Seno do ângulo 30.0 = 0.50\n",
            "Cosseno do ângulo 30.0 = 0.87\n",
            "Tangente do ângulo 30.0 = 0.58\n"
          ],
          "name": "stdout"
        }
      ]
    },
    {
      "cell_type": "code",
      "metadata": {
        "id": "CItB4SdrSqO_",
        "colab_type": "code",
        "colab": {}
      },
      "source": [
        ""
      ],
      "execution_count": null,
      "outputs": []
    },
    {
      "cell_type": "code",
      "metadata": {
        "id": "AAR7a8EOR7x8",
        "colab_type": "code",
        "colab": {
          "base_uri": "https://localhost:8080/",
          "height": 102
        },
        "outputId": "d3083261-0cd9-4c92-df19-c2f20bb60d28"
      },
      "source": [
        "import random\n",
        "n1=str(input('Primeiro aluno: '))\n",
        "n2=str(input('Segundo aluno: '))\n",
        "n3=str(input('Terceiro aluno: '))\n",
        "n4=str(input('Quarto aluno: '))\n",
        "lista = [n1,n2,n3,n4]\n",
        "escolhido = random.choice(lista)\n",
        "print('O aluno escolhido foi {}'.format(escolhido))"
      ],
      "execution_count": 51,
      "outputs": [
        {
          "output_type": "stream",
          "text": [
            "Primeiro aluno: a\n",
            "Segundo aluno: b\n",
            "Terceiro aluno: c\n",
            "Quarto aluno: d\n",
            "O aluno escolhido foi a\n"
          ],
          "name": "stdout"
        }
      ]
    },
    {
      "cell_type": "code",
      "metadata": {
        "id": "0YEq2gwaT3b8",
        "colab_type": "code",
        "colab": {
          "base_uri": "https://localhost:8080/",
          "height": 119
        },
        "outputId": "8585dd5e-c53f-41d8-ab3b-61d890c666ee"
      },
      "source": [
        "import random\n",
        "n1=str(input('Primeiro aluno: '))\n",
        "n2=str(input('Segundo aluno: '))\n",
        "n3=str(input('Terceiro aluno: '))\n",
        "n4=str(input('Quarto aluno: '))\n",
        "lista = [n1,n2,n3,n4]\n",
        "random.shuffle(lista)\n",
        "print('A ordem de apresentação será: ')\n",
        "print(lista)"
      ],
      "execution_count": 58,
      "outputs": [
        {
          "output_type": "stream",
          "text": [
            "Primeiro aluno: A\n",
            "Segundo aluno: B\n",
            "Terceiro aluno: C\n",
            "Quarto aluno: D\n",
            "A ordem de apresentação será: \n",
            "['D', 'C', 'A', 'B']\n"
          ],
          "name": "stdout"
        }
      ]
    },
    {
      "cell_type": "code",
      "metadata": {
        "id": "dquuBnaaV-GQ",
        "colab_type": "code",
        "colab": {
          "base_uri": "https://localhost:8080/",
          "height": 34
        },
        "outputId": "d6d29aee-647f-412f-f2ec-9184fc9a69ec"
      },
      "source": [
        "frase='Curso em Vídeo de Python'\n",
        "print(frase[9:21:2])\n"
      ],
      "execution_count": 64,
      "outputs": [
        {
          "output_type": "stream",
          "text": [
            "Vdod y\n"
          ],
          "name": "stdout"
        }
      ]
    }
  ]
}